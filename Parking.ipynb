{
 "cells": [
  {
   "cell_type": "code",
   "execution_count": 1,
   "id": "77fe535f",
   "metadata": {},
   "outputs": [],
   "source": [
    "import pandas as pd\n",
    "df = pd.read_csv('311_Service_Requests_2020.csv',low_memory = False)"
   ]
  },
  {
   "cell_type": "code",
   "execution_count": 2,
   "id": "0ac4e94f",
   "metadata": {},
   "outputs": [
    {
     "name": "stdout",
     "output_type": "stream",
     "text": [
      "<class 'pandas.core.frame.DataFrame'>\n",
      "RangeIndex: 2587316 entries, 0 to 2587315\n",
      "Data columns (total 41 columns):\n",
      " #   Column                          Dtype  \n",
      "---  ------                          -----  \n",
      " 0   Unique Key                      int64  \n",
      " 1   Created Date                    object \n",
      " 2   Closed Date                     object \n",
      " 3   Agency                          object \n",
      " 4   Agency Name                     object \n",
      " 5   Complaint Type                  object \n",
      " 6   Descriptor                      object \n",
      " 7   Location Type                   object \n",
      " 8   Incident Zip                    float64\n",
      " 9   Incident Address                object \n",
      " 10  Street Name                     object \n",
      " 11  Cross Street 1                  object \n",
      " 12  Cross Street 2                  object \n",
      " 13  Intersection Street 1           object \n",
      " 14  Intersection Street 2           object \n",
      " 15  Address Type                    object \n",
      " 16  City                            object \n",
      " 17  Landmark                        object \n",
      " 18  Facility Type                   object \n",
      " 19  Status                          object \n",
      " 20  Due Date                        object \n",
      " 21  Resolution Description          object \n",
      " 22  Resolution Action Updated Date  object \n",
      " 23  Community Board                 object \n",
      " 24  BBL                             float64\n",
      " 25  Borough                         object \n",
      " 26  X Coordinate (State Plane)      float64\n",
      " 27  Y Coordinate (State Plane)      float64\n",
      " 28  Open Data Channel Type          object \n",
      " 29  Park Facility Name              object \n",
      " 30  Park Borough                    object \n",
      " 31  Vehicle Type                    object \n",
      " 32  Taxi Company Borough            object \n",
      " 33  Taxi Pick Up Location           object \n",
      " 34  Bridge Highway Name             object \n",
      " 35  Bridge Highway Direction        object \n",
      " 36  Road Ramp                       object \n",
      " 37  Bridge Highway Segment          object \n",
      " 38  Latitude                        float64\n",
      " 39  Longitude                       float64\n",
      " 40  Location                        object \n",
      "dtypes: float64(6), int64(1), object(34)\n",
      "memory usage: 809.3+ MB\n"
     ]
    }
   ],
   "source": [
    "df.info()"
   ]
  },
  {
   "cell_type": "code",
   "execution_count": 3,
   "id": "11c1e6db",
   "metadata": {},
   "outputs": [
    {
     "data": {
      "text/html": [
       "<div>\n",
       "<style scoped>\n",
       "    .dataframe tbody tr th:only-of-type {\n",
       "        vertical-align: middle;\n",
       "    }\n",
       "\n",
       "    .dataframe tbody tr th {\n",
       "        vertical-align: top;\n",
       "    }\n",
       "\n",
       "    .dataframe thead th {\n",
       "        text-align: right;\n",
       "    }\n",
       "</style>\n",
       "<table border=\"1\" class=\"dataframe\">\n",
       "  <thead>\n",
       "    <tr style=\"text-align: right;\">\n",
       "      <th></th>\n",
       "      <th>Incident Zip</th>\n",
       "      <th>Complaint Type</th>\n",
       "    </tr>\n",
       "  </thead>\n",
       "  <tbody>\n",
       "    <tr>\n",
       "      <th>0</th>\n",
       "      <td>11229.0</td>\n",
       "      <td>Food Poisoning</td>\n",
       "    </tr>\n",
       "    <tr>\n",
       "      <th>1</th>\n",
       "      <td>10458.0</td>\n",
       "      <td>Food Poisoning</td>\n",
       "    </tr>\n",
       "    <tr>\n",
       "      <th>2</th>\n",
       "      <td>11203.0</td>\n",
       "      <td>Food Poisoning</td>\n",
       "    </tr>\n",
       "    <tr>\n",
       "      <th>3</th>\n",
       "      <td>11214.0</td>\n",
       "      <td>Food Poisoning</td>\n",
       "    </tr>\n",
       "    <tr>\n",
       "      <th>4</th>\n",
       "      <td>11385.0</td>\n",
       "      <td>Food Poisoning</td>\n",
       "    </tr>\n",
       "    <tr>\n",
       "      <th>...</th>\n",
       "      <td>...</td>\n",
       "      <td>...</td>\n",
       "    </tr>\n",
       "    <tr>\n",
       "      <th>2587311</th>\n",
       "      <td>11209.0</td>\n",
       "      <td>Food Poisoning</td>\n",
       "    </tr>\n",
       "    <tr>\n",
       "      <th>2587312</th>\n",
       "      <td>11209.0</td>\n",
       "      <td>Food Poisoning</td>\n",
       "    </tr>\n",
       "    <tr>\n",
       "      <th>2587313</th>\n",
       "      <td>11103.0</td>\n",
       "      <td>Food Poisoning</td>\n",
       "    </tr>\n",
       "    <tr>\n",
       "      <th>2587314</th>\n",
       "      <td>10461.0</td>\n",
       "      <td>Food Poisoning</td>\n",
       "    </tr>\n",
       "    <tr>\n",
       "      <th>2587315</th>\n",
       "      <td>10023.0</td>\n",
       "      <td>Food Poisoning</td>\n",
       "    </tr>\n",
       "  </tbody>\n",
       "</table>\n",
       "<p>2587316 rows × 2 columns</p>\n",
       "</div>"
      ],
      "text/plain": [
       "         Incident Zip  Complaint Type\n",
       "0             11229.0  Food Poisoning\n",
       "1             10458.0  Food Poisoning\n",
       "2             11203.0  Food Poisoning\n",
       "3             11214.0  Food Poisoning\n",
       "4             11385.0  Food Poisoning\n",
       "...               ...             ...\n",
       "2587311       11209.0  Food Poisoning\n",
       "2587312       11209.0  Food Poisoning\n",
       "2587313       11103.0  Food Poisoning\n",
       "2587314       10461.0  Food Poisoning\n",
       "2587315       10023.0  Food Poisoning\n",
       "\n",
       "[2587316 rows x 2 columns]"
      ]
     },
     "execution_count": 3,
     "metadata": {},
     "output_type": "execute_result"
    }
   ],
   "source": [
    "df = df[['Incident Zip','Complaint Type']]\n",
    "df"
   ]
  },
  {
   "cell_type": "code",
   "execution_count": 4,
   "id": "1fade896",
   "metadata": {},
   "outputs": [
    {
     "name": "stderr",
     "output_type": "stream",
     "text": [
      "<ipython-input-4-971ce1d092e7>:2: SettingWithCopyWarning: \n",
      "A value is trying to be set on a copy of a slice from a DataFrame.\n",
      "Try using .loc[row_indexer,col_indexer] = value instead\n",
      "\n",
      "See the caveats in the documentation: https://pandas.pydata.org/pandas-docs/stable/user_guide/indexing.html#returning-a-view-versus-a-copy\n",
      "  df['Incident Zip'] = df['Incident Zip'].apply(lambda x: str(int(x)))\n"
     ]
    }
   ],
   "source": [
    "df = df.dropna()\n",
    "df['Incident Zip'] = df['Incident Zip'].apply(lambda x: str(int(x)))"
   ]
  },
  {
   "cell_type": "code",
   "execution_count": 8,
   "id": "f377d802",
   "metadata": {},
   "outputs": [],
   "source": [
    "zipcode = '10025'"
   ]
  },
  {
   "cell_type": "code",
   "execution_count": 14,
   "id": "a8008e97",
   "metadata": {},
   "outputs": [
    {
     "name": "stdout",
     "output_type": "stream",
     "text": [
      "2525504 193693 7.67%\n"
     ]
    }
   ],
   "source": [
    "total = len(df)\n",
    "parking_total = len(df[df['Complaint Type'] == 'Illegal Parking'])\n",
    "ratio_total = parking_total/total\n",
    "print(total, parking_total, '{0:1.2f}%'.format(ratio_total*100))"
   ]
  },
  {
   "cell_type": "code",
   "execution_count": 15,
   "id": "82ccb957",
   "metadata": {},
   "outputs": [
    {
     "name": "stdout",
     "output_type": "stream",
     "text": [
      "20978 792 3.78%\n"
     ]
    }
   ],
   "source": [
    "myarea = len(df[df['Incident Zip'] == zipcode])\n",
    "parking_myarea = len(df[(df['Complaint Type'] == 'Illegal Parking') & (df['Incident Zip'] == zipcode)])\n",
    "ratio_myarea = parking_myarea/myarea\n",
    "print(myarea, parking_myarea, '{0:1.2f}%'.format(ratio_myarea*100))"
   ]
  },
  {
   "cell_type": "code",
   "execution_count": 16,
   "id": "c89ae0d0",
   "metadata": {},
   "outputs": [
    {
     "data": {
      "text/plain": [
       "False"
      ]
     },
     "execution_count": 16,
     "metadata": {},
     "output_type": "execute_result"
    }
   ],
   "source": [
    "higher_parking_proportion = ratio_myarea > ratio_total\n",
    "higher_parking_proportion"
   ]
  },
  {
   "cell_type": "code",
   "execution_count": null,
   "id": "a89d42ab",
   "metadata": {},
   "outputs": [],
   "source": []
  }
 ],
 "metadata": {
  "kernelspec": {
   "display_name": "Python 3",
   "language": "python",
   "name": "python3"
  },
  "language_info": {
   "codemirror_mode": {
    "name": "ipython",
    "version": 3
   },
   "file_extension": ".py",
   "mimetype": "text/x-python",
   "name": "python",
   "nbconvert_exporter": "python",
   "pygments_lexer": "ipython3",
   "version": "3.8.8"
  }
 },
 "nbformat": 4,
 "nbformat_minor": 5
}
